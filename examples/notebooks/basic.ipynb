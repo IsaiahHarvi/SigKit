{
 "cells": [
  {
   "cell_type": "code",
   "execution_count": null,
   "id": "bc1e3e40",
   "metadata": {},
   "outputs": [],
   "source": [
    "\"\"\"\n",
    "Example of using the SigKit library to create a signal, apply an impairment,\n",
    "calculate metrics and display visuals.\n",
    "\"\"\"\n",
    "import numpy as np\n",
    "\n",
    "from sigkit.core.base import Signal\n",
    "from sigkit.impairments.awgn import AWGN\n",
    "from sigkit.metrics.integrity import estimate_snr, calculate_ber"
   ]
  },
  {
   "cell_type": "code",
   "execution_count": null,
   "id": "7b20ef33",
   "metadata": {},
   "outputs": [],
   "source": [
    "\"\"\" Create a Modulated Signal from Bits \"\"\"\n",
    "bits = np.random.randint(0, 2, size=4096)\n",
    "# TODO: Modulate the bits to create a signal\n",
    "\n",
    "signal = Signal(\n",
    "    samples=bits,\n",
    "    sample_rate=1e6,        # Sample rate in Hz\n",
    "    carrier_frequency=0.0,  # Carrier frequency in Hz\n",
    ")"
   ]
  },
  {
   "cell_type": "code",
   "execution_count": null,
   "id": "9de468cd",
   "metadata": {},
   "outputs": [],
   "source": [
    "\"\"\" Apply an Impairment \"\"\"\n",
    "impairment = AWGN(snr_db=20)  # Target Signal to Noise Ratio in dB\n",
    "signal: Signal = impairment.apply(signal) # Impairments return a new Signal object for immutability"
   ]
  },
  {
   "cell_type": "code",
   "execution_count": null,
   "id": "6ebd8278",
   "metadata": {},
   "outputs": [],
   "source": [
    "\"\"\" Calculate Metrics \"\"\"\n",
    "ber = calculate_ber(signal.samples, bits)  # Bit Error Rate\n",
    "snr = estimate_snr(signal.samples, bits)  # Signal to Noise Ratio"
   ]
  },
  {
   "cell_type": "code",
   "execution_count": null,
   "id": "b4edf156",
   "metadata": {},
   "outputs": [],
   "source": [
    "\"\"\" Display Visuals \"\"\"\n",
    "# TODO"
   ]
  }
 ],
 "metadata": {
  "kernelspec": {
   "display_name": ".venv",
   "language": "python",
   "name": "python3"
  },
  "language_info": {
   "name": "python",
   "version": "3.13.1"
  }
 },
 "nbformat": 4,
 "nbformat_minor": 5
}
