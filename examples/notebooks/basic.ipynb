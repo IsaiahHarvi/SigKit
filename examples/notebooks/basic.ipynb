{
 "cells": [
  {
   "cell_type": "code",
   "execution_count": null,
   "id": "f78b9857",
   "metadata": {},
   "outputs": [],
   "source": [
    "%pip install -e ../../"
   ]
  },
  {
   "cell_type": "code",
   "execution_count": null,
   "id": "bc1e3e40",
   "metadata": {},
   "outputs": [],
   "source": [
    "\"\"\"\n",
    "Example of using the SigKit library to create a signal, apply an impairment,\n",
    "calculate metrics and display visuals.\n",
    "\"\"\"\n",
    "import numpy as np\n",
    "\n",
    "from sigkit.core.base import Signal\n",
    "from sigkit.modem.psk import PSK\n",
    "from sigkit.impairments.awgn import AWGN\n",
    "from sigkit.metrics.integrity import estimate_snr, calculate_ber\n",
    "from sigkit.metrics.visuals import plot_constellation, plot_spectrogram, plot_psd, plot_time, plot_frequency"
   ]
  },
  {
   "cell_type": "code",
   "execution_count": null,
   "id": "7b20ef33",
   "metadata": {},
   "outputs": [],
   "source": [
    "\"\"\"Create a Modulated Signal from Bits\"\"\"\n",
    "\n",
    "sample_rate = 1024 # Sample rate in Hz\n",
    "symbol_rate = 32 # Symbol rate\n",
    "carrier_frequency = 0 # Carrier frequency in Hz, 0 is baseband\n",
    "\n",
    "modem = PSK(\n",
    "    sample_rate=sample_rate,\n",
    "    symbol_rate=symbol_rate,\n",
    "    n_components=4, # Number of PSK components (e.g., 4 for QPSK)\n",
    "    cf=carrier_frequency\n",
    ")\n",
    "\n",
    "num_symbols = 64  # Number of symbols to modulate\n",
    "bits = np.random.randint(\n",
    "    0, 2, size=64 * modem.bits_per_symbol, dtype=np.uint8\n",
    ")\n",
    "signal: Signal = modem.modulate(bits)\n",
    "\n",
    "# Signal members are set with the attributes of the modem\n",
    "print(signal, end=\"\\n\\n\")\n",
    "print(f\"{signal.sample_rate=}\")\n",
    "print(f\"{signal.carrier_frequency=}\")\n"
   ]
  },
  {
   "cell_type": "code",
   "execution_count": null,
   "id": "9de468cd",
   "metadata": {},
   "outputs": [],
   "source": [
    "\"\"\"Apply an Impairment\"\"\"\n",
    "impairment = AWGN(snr_db=20)  # Target Signal to Noise Ratio in dB\n",
    "signal: Signal = impairment(signal) # Impairments return a new Signal object for immutability"
   ]
  },
  {
   "cell_type": "code",
   "execution_count": null,
   "id": "6ebd8278",
   "metadata": {},
   "outputs": [],
   "source": [
    "\"\"\"Calculate Metrics\"\"\"\n",
    "demod_bits = modem.demodulate(signal.samples)  # Demodulate the signal to bits\n",
    "\n",
    "ber = calculate_ber(demod_bits, truth_bits=bits)  # Bit Error Rate\n",
    "snr = estimate_snr(noisy=demod_bits, clean=bits)  # Signal to Noise Ratio\n",
    "\n",
    "print(f\"{ber=}\")\n",
    "print(f\"{snr=}\")"
   ]
  },
  {
   "cell_type": "code",
   "execution_count": null,
   "id": "b4edf156",
   "metadata": {},
   "outputs": [],
   "source": [
    "\"\"\"Display Visuals\"\"\"\n",
    "plot_constellation(signal)  # Plot the constellation diagram\n",
    "plot_spectrogram(signal)  # Plot the spectrogram of the signal\n",
    "plot_psd(signal)  # Plot the Power Spectral Density of the signal\n",
    "plot_time(signal)  # Plot the time domain representation of the signal\n",
    "plot_frequency(signal)  # Plot the frequency domain representation of the signal"
   ]
  }
 ],
 "metadata": {
  "kernelspec": {
   "display_name": "Python 3",
   "language": "python",
   "name": "python3"
  },
  "language_info": {
   "codemirror_mode": {
    "name": "ipython",
    "version": 3
   },
   "file_extension": ".py",
   "mimetype": "text/x-python",
   "name": "python",
   "nbconvert_exporter": "python",
   "pygments_lexer": "ipython3",
   "version": "3.11.12"
  }
 },
 "nbformat": 4,
 "nbformat_minor": 5
}
