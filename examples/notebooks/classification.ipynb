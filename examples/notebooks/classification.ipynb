{
 "cells": [
  {
   "cell_type": "code",
   "execution_count": null,
   "id": "f78b9857",
   "metadata": {},
   "outputs": [],
   "source": [
    "# Update the below line with the path to your SigKit repository location\n",
    "%cd /workspaces/SigKit\n",
    "\n",
    "%pip install -e ."
   ]
  },
  {
   "cell_type": "code",
   "execution_count": null,
   "id": "bc1e3e40",
   "metadata": {},
   "outputs": [],
   "source": [
    "\"\"\"\n",
    "Example of using the SigKit library to create a signal, load the pretrained model,\n",
    "and run inference on the signal to classify its modulation type.\n",
    "\n",
    "NOTE: Make sure to pull down lfs objects before running this example.\n",
    "```bash\n",
    "git lfs install\n",
    "git lfs pull\n",
    "```\n",
    "\"\"\"\n",
    "import numpy as np\n",
    "import torch\n",
    "\n",
    "from sigkit.core.base import Signal\n",
    "from sigkit.modem.psk import PSK\n",
    "from sigkit.models.Module import SigKitClassifier\n",
    "from sigkit.transforms.utils import InferenceTransform\n",
    "from sigkit.models.utils import PSK_CLASS_MAP"
   ]
  },
  {
   "cell_type": "code",
   "execution_count": null,
   "id": "7b20ef33",
   "metadata": {},
   "outputs": [],
   "source": [
    "\"\"\"Create a Modulated Signal from Bits\"\"\"\n",
    "\n",
    "sample_rate = 1024 # Sample rate in Hz\n",
    "symbol_rate = 32 # Symbol rate\n",
    "carrier_frequency = 128 # Carrier frequency in Hz, 0 is baseband\n",
    "\n",
    "# NOTE: All pytorch operations expect baseband, 0 is our default, we set a cf here\n",
    "# for visualizations later.\n",
    "\n",
    "modem = PSK(\n",
    "    sample_rate=sample_rate,\n",
    "    symbol_rate=symbol_rate,\n",
    "    n_components=4, # Number of PSK components (e.g., 4 for QPSK)\n",
    "    cf=carrier_frequency\n",
    ")\n",
    "\n",
    "num_symbols = (4096 // modem.sps) # Model expects 4096 samples\n",
    "bits = np.random.randint(\n",
    "    0, 2, size=num_symbols * modem.bits_per_symbol, dtype=np.uint8\n",
    ")\n",
    "signal: torch.Tensor = modem.modulate(bits).to_tensor().to(\"cpu\")\n"
   ]
  },
  {
   "cell_type": "code",
   "execution_count": null,
   "id": "b4edf156",
   "metadata": {},
   "outputs": [],
   "source": [
    "\"\"\"Load the Pretrained Model and Run Inference.\"\"\"\n",
    "model = SigKitClassifier.load_from_checkpoint(\"./data/checkpoints/best.ckpt\", num_classes=6).to(\"cpu\")\n",
    "model.eval()\n",
    "\n",
    "with torch.no_grad():\n",
    "    signal = InferenceTransform(signal) # Apply necessary transform to normalize and reshape\n",
    "    output = model(signal.unsqueeze(0))  # Add batch dimension\n",
    "    predicted_class = torch.argmax(output, dim=1).item()\n",
    "\n",
    "print(f\"Predicted Modulation Class: {predicted_class}\")\n",
    "print(f\"Class Name: {PSK_CLASS_MAP[predicted_class]}\")"
   ]
  }
 ],
 "metadata": {
  "kernelspec": {
   "display_name": "Python 3",
   "language": "python",
   "name": "python3"
  },
  "language_info": {
   "codemirror_mode": {
    "name": "ipython",
    "version": 3
   },
   "file_extension": ".py",
   "mimetype": "text/x-python",
   "name": "python",
   "nbconvert_exporter": "python",
   "pygments_lexer": "ipython3",
   "version": "3.11.12"
  }
 },
 "nbformat": 4,
 "nbformat_minor": 5
}
